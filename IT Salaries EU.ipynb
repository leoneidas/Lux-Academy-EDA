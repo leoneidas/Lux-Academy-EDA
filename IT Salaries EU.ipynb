{
 "cells": [
  {
   "cell_type": "markdown",
   "id": "a64adf72",
   "metadata": {},
   "source": [
    "### Exploratory Data Analysis for EU IT Salaries 2020"
   ]
  },
  {
   "cell_type": "code",
   "execution_count": 1,
   "id": "3751dbd5",
   "metadata": {},
   "outputs": [],
   "source": [
    "# importing packages\n",
    "import pandas as pd\n",
    "import numpy as np\n",
    "import seaborn as sb\n",
    "import matplotlib.pyplot as plt\n",
    "%matplotlib inline"
   ]
  },
  {
   "cell_type": "code",
   "execution_count": 2,
   "id": "8c4f70d5",
   "metadata": {},
   "outputs": [],
   "source": [
    "#loading the \"IT Salary Survey EU\" Data Set\n",
    "ITSalaryEU_df= pd.read_csv('C:/Users/USER/Downloads/IT_Salary_Survey_EU.csv')"
   ]
  },
  {
   "cell_type": "code",
   "execution_count": 3,
   "id": "7eac51bf",
   "metadata": {},
   "outputs": [
    {
     "data": {
      "text/html": [
       "<div>\n",
       "<style scoped>\n",
       "    .dataframe tbody tr th:only-of-type {\n",
       "        vertical-align: middle;\n",
       "    }\n",
       "\n",
       "    .dataframe tbody tr th {\n",
       "        vertical-align: top;\n",
       "    }\n",
       "\n",
       "    .dataframe thead th {\n",
       "        text-align: right;\n",
       "    }\n",
       "</style>\n",
       "<table border=\"1\" class=\"dataframe\">\n",
       "  <thead>\n",
       "    <tr style=\"text-align: right;\">\n",
       "      <th></th>\n",
       "      <th>Timestamp</th>\n",
       "      <th>Age</th>\n",
       "      <th>Gender</th>\n",
       "      <th>City</th>\n",
       "      <th>Position</th>\n",
       "      <th>Total years of experience</th>\n",
       "      <th>Years of experience in Germany</th>\n",
       "      <th>Seniority level</th>\n",
       "      <th>Your main technology / programming language</th>\n",
       "      <th>Other technologies/programming languages you use often</th>\n",
       "      <th>...</th>\n",
       "      <th>Annual bonus+stocks one year ago. Only answer if staying in same country</th>\n",
       "      <th>Number of vacation days</th>\n",
       "      <th>Employment status</th>\n",
       "      <th>Сontract duration</th>\n",
       "      <th>Main language at work</th>\n",
       "      <th>Company size</th>\n",
       "      <th>Company type</th>\n",
       "      <th>Have you lost your job due to the coronavirus outbreak?</th>\n",
       "      <th>Have you been forced to have a shorter working week (Kurzarbeit)? If yes, how many hours per week</th>\n",
       "      <th>Have you received additional monetary support from your employer due to Work From Home? If yes, how much in 2020 in EUR</th>\n",
       "    </tr>\n",
       "  </thead>\n",
       "  <tbody>\n",
       "    <tr>\n",
       "      <th>0</th>\n",
       "      <td>24/11/2020 11:14:15</td>\n",
       "      <td>26.0</td>\n",
       "      <td>Male</td>\n",
       "      <td>Munich</td>\n",
       "      <td>Software Engineer</td>\n",
       "      <td>5</td>\n",
       "      <td>3</td>\n",
       "      <td>Senior</td>\n",
       "      <td>TypeScript</td>\n",
       "      <td>Kotlin, Javascript / Typescript</td>\n",
       "      <td>...</td>\n",
       "      <td>10000</td>\n",
       "      <td>30</td>\n",
       "      <td>Full-time employee</td>\n",
       "      <td>Unlimited contract</td>\n",
       "      <td>English</td>\n",
       "      <td>51-100</td>\n",
       "      <td>Product</td>\n",
       "      <td>No</td>\n",
       "      <td>NaN</td>\n",
       "      <td>NaN</td>\n",
       "    </tr>\n",
       "    <tr>\n",
       "      <th>1</th>\n",
       "      <td>24/11/2020 11:14:16</td>\n",
       "      <td>26.0</td>\n",
       "      <td>Male</td>\n",
       "      <td>Berlin</td>\n",
       "      <td>Backend Developer</td>\n",
       "      <td>7</td>\n",
       "      <td>4</td>\n",
       "      <td>Senior</td>\n",
       "      <td>Ruby</td>\n",
       "      <td>NaN</td>\n",
       "      <td>...</td>\n",
       "      <td>5000</td>\n",
       "      <td>28</td>\n",
       "      <td>Full-time employee</td>\n",
       "      <td>Unlimited contract</td>\n",
       "      <td>English</td>\n",
       "      <td>101-1000</td>\n",
       "      <td>Product</td>\n",
       "      <td>No</td>\n",
       "      <td>NaN</td>\n",
       "      <td>NaN</td>\n",
       "    </tr>\n",
       "    <tr>\n",
       "      <th>2</th>\n",
       "      <td>24/11/2020 11:14:21</td>\n",
       "      <td>29.0</td>\n",
       "      <td>Male</td>\n",
       "      <td>Berlin</td>\n",
       "      <td>Software Engineer</td>\n",
       "      <td>12</td>\n",
       "      <td>6</td>\n",
       "      <td>Lead</td>\n",
       "      <td>Javascript / Typescript</td>\n",
       "      <td>Javascript / Typescript, Docker</td>\n",
       "      <td>...</td>\n",
       "      <td>100000</td>\n",
       "      <td>30</td>\n",
       "      <td>Self-employed (freelancer)</td>\n",
       "      <td>Temporary contract</td>\n",
       "      <td>English</td>\n",
       "      <td>101-1000</td>\n",
       "      <td>Product</td>\n",
       "      <td>Yes</td>\n",
       "      <td>NaN</td>\n",
       "      <td>NaN</td>\n",
       "    </tr>\n",
       "    <tr>\n",
       "      <th>3</th>\n",
       "      <td>24/11/2020 11:15:24</td>\n",
       "      <td>28.0</td>\n",
       "      <td>Male</td>\n",
       "      <td>Berlin</td>\n",
       "      <td>Frontend Developer</td>\n",
       "      <td>4</td>\n",
       "      <td>1</td>\n",
       "      <td>Junior</td>\n",
       "      <td>Javascript</td>\n",
       "      <td>NaN</td>\n",
       "      <td>...</td>\n",
       "      <td>NaN</td>\n",
       "      <td>24</td>\n",
       "      <td>Full-time employee</td>\n",
       "      <td>Unlimited contract</td>\n",
       "      <td>English</td>\n",
       "      <td>51-100</td>\n",
       "      <td>Startup</td>\n",
       "      <td>No</td>\n",
       "      <td>NaN</td>\n",
       "      <td>NaN</td>\n",
       "    </tr>\n",
       "    <tr>\n",
       "      <th>4</th>\n",
       "      <td>24/11/2020 11:15:46</td>\n",
       "      <td>37.0</td>\n",
       "      <td>Male</td>\n",
       "      <td>Berlin</td>\n",
       "      <td>Backend Developer</td>\n",
       "      <td>17</td>\n",
       "      <td>6</td>\n",
       "      <td>Senior</td>\n",
       "      <td>C# .NET</td>\n",
       "      <td>.NET, SQL, AWS, Docker</td>\n",
       "      <td>...</td>\n",
       "      <td>NaN</td>\n",
       "      <td>29</td>\n",
       "      <td>Full-time employee</td>\n",
       "      <td>Unlimited contract</td>\n",
       "      <td>English</td>\n",
       "      <td>101-1000</td>\n",
       "      <td>Product</td>\n",
       "      <td>No</td>\n",
       "      <td>NaN</td>\n",
       "      <td>NaN</td>\n",
       "    </tr>\n",
       "  </tbody>\n",
       "</table>\n",
       "<p>5 rows × 23 columns</p>\n",
       "</div>"
      ],
      "text/plain": [
       "             Timestamp   Age Gender    City           Position   \\\n",
       "0  24/11/2020 11:14:15  26.0   Male  Munich   Software Engineer   \n",
       "1  24/11/2020 11:14:16  26.0   Male  Berlin   Backend Developer   \n",
       "2  24/11/2020 11:14:21  29.0   Male  Berlin   Software Engineer   \n",
       "3  24/11/2020 11:15:24  28.0   Male  Berlin  Frontend Developer   \n",
       "4  24/11/2020 11:15:46  37.0   Male  Berlin   Backend Developer   \n",
       "\n",
       "  Total years of experience Years of experience in Germany Seniority level  \\\n",
       "0                         5                              3          Senior   \n",
       "1                         7                              4          Senior   \n",
       "2                        12                              6            Lead   \n",
       "3                         4                              1          Junior   \n",
       "4                        17                              6          Senior   \n",
       "\n",
       "  Your main technology / programming language  \\\n",
       "0                                  TypeScript   \n",
       "1                                        Ruby   \n",
       "2                     Javascript / Typescript   \n",
       "3                                  Javascript   \n",
       "4                                     C# .NET   \n",
       "\n",
       "  Other technologies/programming languages you use often  ...  \\\n",
       "0                    Kotlin, Javascript / Typescript      ...   \n",
       "1                                                NaN      ...   \n",
       "2                    Javascript / Typescript, Docker      ...   \n",
       "3                                                NaN      ...   \n",
       "4                             .NET, SQL, AWS, Docker      ...   \n",
       "\n",
       "   Annual bonus+stocks one year ago. Only answer if staying in same country  \\\n",
       "0                                              10000                          \n",
       "1                                               5000                          \n",
       "2                                             100000                          \n",
       "3                                                NaN                          \n",
       "4                                                NaN                          \n",
       "\n",
       "  Number of vacation days           Employment status   Сontract duration  \\\n",
       "0                      30          Full-time employee  Unlimited contract   \n",
       "1                      28          Full-time employee  Unlimited contract   \n",
       "2                      30  Self-employed (freelancer)  Temporary contract   \n",
       "3                      24          Full-time employee  Unlimited contract   \n",
       "4                      29          Full-time employee  Unlimited contract   \n",
       "\n",
       "  Main language at work Company size Company type  \\\n",
       "0               English       51-100      Product   \n",
       "1               English     101-1000      Product   \n",
       "2               English     101-1000      Product   \n",
       "3               English       51-100      Startup   \n",
       "4               English     101-1000      Product   \n",
       "\n",
       "  Have you lost your job due to the coronavirus outbreak?  \\\n",
       "0                                                 No        \n",
       "1                                                 No        \n",
       "2                                                Yes        \n",
       "3                                                 No        \n",
       "4                                                 No        \n",
       "\n",
       "  Have you been forced to have a shorter working week (Kurzarbeit)? If yes, how many hours per week  \\\n",
       "0                                                NaN                                                  \n",
       "1                                                NaN                                                  \n",
       "2                                                NaN                                                  \n",
       "3                                                NaN                                                  \n",
       "4                                                NaN                                                  \n",
       "\n",
       "  Have you received additional monetary support from your employer due to Work From Home? If yes, how much in 2020 in EUR  \n",
       "0                                                NaN                                                                       \n",
       "1                                                NaN                                                                       \n",
       "2                                                NaN                                                                       \n",
       "3                                                NaN                                                                       \n",
       "4                                                NaN                                                                       \n",
       "\n",
       "[5 rows x 23 columns]"
      ]
     },
     "execution_count": 3,
     "metadata": {},
     "output_type": "execute_result"
    }
   ],
   "source": [
    "ITSalaryEU_df.head()"
   ]
  },
  {
   "cell_type": "markdown",
   "id": "0335a978",
   "metadata": {},
   "source": [
    "### Analyzing the Data"
   ]
  },
  {
   "cell_type": "code",
   "execution_count": 4,
   "id": "2f50b450",
   "metadata": {
    "scrolled": false
   },
   "outputs": [
    {
     "name": "stdout",
     "output_type": "stream",
     "text": [
      "<class 'pandas.core.frame.DataFrame'>\n",
      "RangeIndex: 1253 entries, 0 to 1252\n",
      "Data columns (total 23 columns):\n",
      " #   Column                                                                                                                   Non-Null Count  Dtype  \n",
      "---  ------                                                                                                                   --------------  -----  \n",
      " 0   Timestamp                                                                                                                1253 non-null   object \n",
      " 1   Age                                                                                                                      1226 non-null   float64\n",
      " 2   Gender                                                                                                                   1243 non-null   object \n",
      " 3   City                                                                                                                     1253 non-null   object \n",
      " 4   Position                                                                                                                 1247 non-null   object \n",
      " 5   Total years of experience                                                                                                1237 non-null   object \n",
      " 6   Years of experience in Germany                                                                                           1221 non-null   object \n",
      " 7   Seniority level                                                                                                          1241 non-null   object \n",
      " 8   Your main technology / programming language                                                                              1126 non-null   object \n",
      " 9   Other technologies/programming languages you use often                                                                   1096 non-null   object \n",
      " 10  Yearly brutto salary (without bonus and stocks) in EUR                                                                   1253 non-null   float64\n",
      " 11  Yearly bonus + stocks in EUR                                                                                             829 non-null    object \n",
      " 12  Annual brutto salary (without bonus and stocks) one year ago. Only answer if staying in the same country                 885 non-null    float64\n",
      " 13  Annual bonus+stocks one year ago. Only answer if staying in same country                                                 614 non-null    object \n",
      " 14  Number of vacation days                                                                                                  1185 non-null   object \n",
      " 15  Employment status                                                                                                        1236 non-null   object \n",
      " 16  Сontract duration                                                                                                        1224 non-null   object \n",
      " 17  Main language at work                                                                                                    1237 non-null   object \n",
      " 18  Company size                                                                                                             1235 non-null   object \n",
      " 19  Company type                                                                                                             1228 non-null   object \n",
      " 20  Have you lost your job due to the coronavirus outbreak?                                                                  1233 non-null   object \n",
      " 21  Have you been forced to have a shorter working week (Kurzarbeit)? If yes, how many hours per week                        373 non-null    float64\n",
      " 22  Have you received additional monetary support from your employer due to Work From Home? If yes, how much in 2020 in EUR  462 non-null    object \n",
      "dtypes: float64(4), object(19)\n",
      "memory usage: 225.3+ KB\n"
     ]
    }
   ],
   "source": [
    "ITSalaryEU_df. info() "
   ]
  },
  {
   "cell_type": "code",
   "execution_count": 5,
   "id": "5d819646",
   "metadata": {},
   "outputs": [
    {
     "data": {
      "text/plain": [
       "(1253, 23)"
      ]
     },
     "execution_count": 5,
     "metadata": {},
     "output_type": "execute_result"
    }
   ],
   "source": [
    "ITSalaryEU_df.shape"
   ]
  },
  {
   "cell_type": "code",
   "execution_count": 6,
   "id": "52a5d02c",
   "metadata": {},
   "outputs": [
    {
     "data": {
      "text/html": [
       "<div>\n",
       "<style scoped>\n",
       "    .dataframe tbody tr th:only-of-type {\n",
       "        vertical-align: middle;\n",
       "    }\n",
       "\n",
       "    .dataframe tbody tr th {\n",
       "        vertical-align: top;\n",
       "    }\n",
       "\n",
       "    .dataframe thead th {\n",
       "        text-align: right;\n",
       "    }\n",
       "</style>\n",
       "<table border=\"1\" class=\"dataframe\">\n",
       "  <thead>\n",
       "    <tr style=\"text-align: right;\">\n",
       "      <th></th>\n",
       "      <th>count</th>\n",
       "      <th>mean</th>\n",
       "      <th>std</th>\n",
       "      <th>min</th>\n",
       "      <th>25%</th>\n",
       "      <th>50%</th>\n",
       "      <th>75%</th>\n",
       "      <th>max</th>\n",
       "    </tr>\n",
       "  </thead>\n",
       "  <tbody>\n",
       "    <tr>\n",
       "      <th>Age</th>\n",
       "      <td>1226.0</td>\n",
       "      <td>3.250979e+01</td>\n",
       "      <td>5.663804e+00</td>\n",
       "      <td>20.0</td>\n",
       "      <td>29.0</td>\n",
       "      <td>32.0</td>\n",
       "      <td>35.0</td>\n",
       "      <td>6.900000e+01</td>\n",
       "    </tr>\n",
       "    <tr>\n",
       "      <th>Yearly brutto salary (without bonus and stocks) in EUR</th>\n",
       "      <td>1253.0</td>\n",
       "      <td>8.027904e+07</td>\n",
       "      <td>2.825061e+09</td>\n",
       "      <td>10001.0</td>\n",
       "      <td>58800.0</td>\n",
       "      <td>70000.0</td>\n",
       "      <td>80000.0</td>\n",
       "      <td>1.000000e+11</td>\n",
       "    </tr>\n",
       "    <tr>\n",
       "      <th>Annual brutto salary (without bonus and stocks) one year ago. Only answer if staying in the same country</th>\n",
       "      <td>885.0</td>\n",
       "      <td>6.322459e+05</td>\n",
       "      <td>1.680508e+07</td>\n",
       "      <td>11000.0</td>\n",
       "      <td>55000.0</td>\n",
       "      <td>65000.0</td>\n",
       "      <td>75000.0</td>\n",
       "      <td>5.000000e+08</td>\n",
       "    </tr>\n",
       "    <tr>\n",
       "      <th>Have you been forced to have a shorter working week (Kurzarbeit)? If yes, how many hours per week</th>\n",
       "      <td>373.0</td>\n",
       "      <td>1.296783e+01</td>\n",
       "      <td>1.527517e+01</td>\n",
       "      <td>0.0</td>\n",
       "      <td>0.0</td>\n",
       "      <td>0.0</td>\n",
       "      <td>30.0</td>\n",
       "      <td>4.000000e+01</td>\n",
       "    </tr>\n",
       "  </tbody>\n",
       "</table>\n",
       "</div>"
      ],
      "text/plain": [
       "                                                     count          mean  \\\n",
       "Age                                                 1226.0  3.250979e+01   \n",
       "Yearly brutto salary (without bonus and stocks)...  1253.0  8.027904e+07   \n",
       "Annual brutto salary (without bonus and stocks)...   885.0  6.322459e+05   \n",
       "Have you been forced to have a shorter working ...   373.0  1.296783e+01   \n",
       "\n",
       "                                                             std      min  \\\n",
       "Age                                                 5.663804e+00     20.0   \n",
       "Yearly brutto salary (without bonus and stocks)...  2.825061e+09  10001.0   \n",
       "Annual brutto salary (without bonus and stocks)...  1.680508e+07  11000.0   \n",
       "Have you been forced to have a shorter working ...  1.527517e+01      0.0   \n",
       "\n",
       "                                                        25%      50%      75%  \\\n",
       "Age                                                    29.0     32.0     35.0   \n",
       "Yearly brutto salary (without bonus and stocks)...  58800.0  70000.0  80000.0   \n",
       "Annual brutto salary (without bonus and stocks)...  55000.0  65000.0  75000.0   \n",
       "Have you been forced to have a shorter working ...      0.0      0.0     30.0   \n",
       "\n",
       "                                                             max  \n",
       "Age                                                 6.900000e+01  \n",
       "Yearly brutto salary (without bonus and stocks)...  1.000000e+11  \n",
       "Annual brutto salary (without bonus and stocks)...  5.000000e+08  \n",
       "Have you been forced to have a shorter working ...  4.000000e+01  "
      ]
     },
     "execution_count": 6,
     "metadata": {},
     "output_type": "execute_result"
    }
   ],
   "source": [
    "ITSalaryEU_df.describe().transpose()"
   ]
  },
  {
   "cell_type": "code",
   "execution_count": 7,
   "id": "24ed4ba7",
   "metadata": {},
   "outputs": [
    {
     "data": {
      "text/plain": [
       "Timestamp                                                                                                                    0\n",
       "Age                                                                                                                         27\n",
       "Gender                                                                                                                      10\n",
       "City                                                                                                                         0\n",
       "Position                                                                                                                     6\n",
       "Total years of experience                                                                                                   16\n",
       "Years of experience in Germany                                                                                              32\n",
       "Seniority level                                                                                                             12\n",
       "Your main technology / programming language                                                                                127\n",
       "Other technologies/programming languages you use often                                                                     157\n",
       "Yearly brutto salary (without bonus and stocks) in EUR                                                                       0\n",
       "Yearly bonus + stocks in EUR                                                                                               424\n",
       "Annual brutto salary (without bonus and stocks) one year ago. Only answer if staying in the same country                   368\n",
       "Annual bonus+stocks one year ago. Only answer if staying in same country                                                   639\n",
       "Number of vacation days                                                                                                     68\n",
       "Employment status                                                                                                           17\n",
       "Сontract duration                                                                                                           29\n",
       "Main language at work                                                                                                       16\n",
       "Company size                                                                                                                18\n",
       "Company type                                                                                                                25\n",
       "Have you lost your job due to the coronavirus outbreak?                                                                     20\n",
       "Have you been forced to have a shorter working week (Kurzarbeit)? If yes, how many hours per week                          880\n",
       "Have you received additional monetary support from your employer due to Work From Home? If yes, how much in 2020 in EUR    791\n",
       "dtype: int64"
      ]
     },
     "execution_count": 7,
     "metadata": {},
     "output_type": "execute_result"
    }
   ],
   "source": [
    "ITSalaryEU_df.isnull().sum()"
   ]
  },
  {
   "cell_type": "code",
   "execution_count": 8,
   "id": "60ace756",
   "metadata": {},
   "outputs": [
    {
     "data": {
      "text/plain": [
       "0"
      ]
     },
     "execution_count": 8,
     "metadata": {},
     "output_type": "execute_result"
    }
   ],
   "source": [
    "sum(ITSalaryEU_df.duplicated())"
   ]
  },
  {
   "cell_type": "markdown",
   "id": "95ee64a9",
   "metadata": {},
   "source": [
    "### Cleaning the Data"
   ]
  },
  {
   "cell_type": "markdown",
   "id": "cb0956d7",
   "metadata": {},
   "source": [
    "#### Rename columns to shorten"
   ]
  },
  {
   "cell_type": "code",
   "execution_count": 9,
   "id": "6394fb31",
   "metadata": {},
   "outputs": [],
   "source": [
    "ITSalaryEU_df.rename(\n",
    "columns ={\n",
    "    'Total years of experience' : 'experience',                                                                                                  \n",
    "    'Years of experience in Germany' : 'experience_in_Germany',                                                                                             \n",
    "    'Seniority level': 'Seniority',                                                                                                        \n",
    "    'Your main technology / programming language': 'main_tech',                                                                             \n",
    "    'Other technologies/programming languages you use often':'Other_tech',                                                                    \n",
    "    'Yearly brutto salary (without bonus and stocks) in EUR': 'Yearly_brutto_salary',                                                                                                                                                                 \n",
    "    'Annual brutto salary (without bonus and stocks) one year ago. Only answer if staying in the same country': 'Annual brutto salary',                  \n",
    "    'Annual bonus+stocks one year ago. Only answer if staying in same country': 'Annual_bonus+stocks',                                                  \n",
    "    'Number of vacation days': 'vacation_days',                                                                                                                                                                                                                  \n",
    "    'Have you lost your job due to the coronavirus outbreak?':  'lost_job',                                                                 \n",
    "    'Have you been forced to have a shorter working week (Kurzarbeit)? If yes, how many hours per week': 'shorter_working_week',                         \n",
    "    'Have you received additional monetary support from your employer due to Work From Home? If yes, how much in 2020 in EUR':'additional_monetary_support'},\n",
    "    inplace = True)"
   ]
  },
  {
   "cell_type": "code",
   "execution_count": 10,
   "id": "33bf150f",
   "metadata": {},
   "outputs": [
    {
     "name": "stdout",
     "output_type": "stream",
     "text": [
      "<class 'pandas.core.frame.DataFrame'>\n",
      "RangeIndex: 1253 entries, 0 to 1252\n",
      "Data columns (total 23 columns):\n",
      " #   Column                        Non-Null Count  Dtype  \n",
      "---  ------                        --------------  -----  \n",
      " 0   Timestamp                     1253 non-null   object \n",
      " 1   Age                           1226 non-null   float64\n",
      " 2   Gender                        1243 non-null   object \n",
      " 3   City                          1253 non-null   object \n",
      " 4   Position                      1247 non-null   object \n",
      " 5   experience                    1237 non-null   object \n",
      " 6   experience_in_Germany         1221 non-null   object \n",
      " 7   Seniority                     1241 non-null   object \n",
      " 8   main_tech                     1126 non-null   object \n",
      " 9   Other_tech                    1096 non-null   object \n",
      " 10  Yearly_brutto_salary          1253 non-null   float64\n",
      " 11  Yearly bonus + stocks in EUR  829 non-null    object \n",
      " 12  Annual brutto salary          885 non-null    float64\n",
      " 13  Annual_bonus+stocks           614 non-null    object \n",
      " 14  vacation_days                 1185 non-null   object \n",
      " 15  Employment status             1236 non-null   object \n",
      " 16  Сontract duration             1224 non-null   object \n",
      " 17  Main language at work         1237 non-null   object \n",
      " 18  Company size                  1235 non-null   object \n",
      " 19  Company type                  1228 non-null   object \n",
      " 20  lost_job                      1233 non-null   object \n",
      " 21  shorter_working_week          373 non-null    float64\n",
      " 22  additional_monetary_support   462 non-null    object \n",
      "dtypes: float64(4), object(19)\n",
      "memory usage: 225.3+ KB\n"
     ]
    }
   ],
   "source": [
    "ITSalaryEU_df.info()"
   ]
  },
  {
   "cell_type": "markdown",
   "id": "01a3143e",
   "metadata": {},
   "source": [
    "#### Changing Data Types"
   ]
  },
  {
   "cell_type": "code",
   "execution_count": 11,
   "id": "f8f2afdb",
   "metadata": {},
   "outputs": [
    {
     "data": {
      "text/plain": [
       "array(['5', '7', '12', '4', '17', '6', '8', '15', '2', '25', nan, '14',\n",
       "       '11', '18', '13', '30', '10', '3', '40', '26', '23', '9', '19',\n",
       "       '20', '5.5', '22', '16', '0.8', '1', '1.5', '6.5', '21', '7.5',\n",
       "       '2.5', '28', '29', '1,5', '24', '0', '4.5', '27',\n",
       "       '1 (as QA Engineer) / 11 in total', '2,5', '15, thereof 8 as CTO',\n",
       "       '31', '6 (not as a data scientist, but as a lab scientist)', '383',\n",
       "       '3.5', 'less than year'], dtype=object)"
      ]
     },
     "execution_count": 11,
     "metadata": {},
     "output_type": "execute_result"
    }
   ],
   "source": [
    "ITSalaryEU_df['experience'].unique()"
   ]
  },
  {
   "cell_type": "code",
   "execution_count": 12,
   "id": "7931349d",
   "metadata": {
    "scrolled": true
   },
   "outputs": [
    {
     "data": {
      "text/plain": [
       "0        5\n",
       "1        7\n",
       "2       12\n",
       "3        4\n",
       "4       17\n",
       "        ..\n",
       "1248     9\n",
       "1249    10\n",
       "1250    15\n",
       "1251     7\n",
       "1252     2\n",
       "Name: experience, Length: 1253, dtype: object"
      ]
     },
     "execution_count": 12,
     "metadata": {},
     "output_type": "execute_result"
    }
   ],
   "source": [
    "ITSalaryEU_df['experience'].str.replace(',', '.')"
   ]
  },
  {
   "cell_type": "code",
   "execution_count": 13,
   "id": "f2d0cfb2",
   "metadata": {
    "scrolled": true
   },
   "outputs": [
    {
     "data": {
      "text/plain": [
       "array(['5', '7', '12', '4', '17', '6', '8', '15', '2', '25', nan, '14',\n",
       "       '11', '18', '13', '30', '10', '3', '40', '26', '23', '9', '19',\n",
       "       '20', '5.5', '22', '16', '0.8', '1', '1.5', '6.5', '21', '7.5',\n",
       "       '2.5', '28', '29', '1,5', '24', '0', '4.5', '27',\n",
       "       '1 (as QA Engineer) / 11 in total', '2,5', '15, thereof 8 as CTO',\n",
       "       '31', '6 (not as a data scientist, but as a lab scientist)', '383',\n",
       "       '3.5', 'less than year'], dtype=object)"
      ]
     },
     "execution_count": 13,
     "metadata": {},
     "output_type": "execute_result"
    }
   ],
   "source": [
    "ITSalaryEU_df['experience'].unique()"
   ]
  },
  {
   "cell_type": "code",
   "execution_count": 14,
   "id": "0215d0ce",
   "metadata": {},
   "outputs": [],
   "source": [
    "ITSalaryEU_df['experience'] = ITSalaryEU_df['experience'].str.replace(',', '.').replace('[^0-9.]', '', regex=True)\n",
    "ITSalaryEU_df['experience'] = ITSalaryEU_df['experience'].replace('', '0')\n",
    "ITSalaryEU_df['experience'] = ITSalaryEU_df['experience'].astype(float)\n",
    "ITSalaryEU_df['experience'] = ITSalaryEU_df['experience'].replace({\n",
    "    '1 (as QA Engineer) / 11 in total': 11.0,\n",
    "    '15, thereof 8 as CTO': 15.0,\n",
    "    'more than 20': 21.0,\n",
    "    'less than year': 0\n",
    "})\n",
    "#Replacing 383\n",
    "ITSalaryEU_df.loc[ITSalaryEU_df['experience'] == '383', 'experience'] = ITSalaryEU_df['experience'].median()\n",
    "\n",
    "#Replacing nan\n",
    "ITSalaryEU_df['experience'].fillna(value=np.nan, inplace=True)"
   ]
  },
  {
   "cell_type": "code",
   "execution_count": 15,
   "id": "48509eac",
   "metadata": {},
   "outputs": [
    {
     "data": {
      "text/plain": [
       "array(['30', '28', '24', '29', '27', nan, '25', '31', '26', '60', '20',\n",
       "       '22', '38', '35', '32', '40', '365', '36', '23', '33', '21',\n",
       "       'unlimited', '14', 'unlimited ', '(no idea)',\n",
       "       '30 in contract (but theoretically unlimited)', '0', 'Unlimited ',\n",
       "       '15', '16', '3', '45', '~25', '12', '50', '23+', '99', 'Unlimited',\n",
       "       '24 labour days', '37.5', '1', '5', '37', '39', '34', '10'],\n",
       "      dtype=object)"
      ]
     },
     "execution_count": 15,
     "metadata": {},
     "output_type": "execute_result"
    }
   ],
   "source": [
    "ITSalaryEU_df['vacation_days'].unique()"
   ]
  },
  {
   "cell_type": "code",
   "execution_count": 16,
   "id": "fe8043e5",
   "metadata": {},
   "outputs": [],
   "source": [
    "# replace 'unlimited', '(no idea)', 'Unlimited ' with np.nan\n",
    "ITSalaryEU_df['vacation_days'] = ITSalaryEU_df['vacation_days'].replace(['unlimited','unlimited ','Unlimited', '(no idea)', 'Unlimited ','nan'], np.nan)\n",
    "\n",
    "# replace 23+ with 23\n",
    "ITSalaryEU_df['vacation_days'] = ITSalaryEU_df['vacation_days'].replace('23+', '23')\n",
    "\n",
    "# replace ~25 with 25\n",
    "ITSalaryEU_df['vacation_days'] = ITSalaryEU_df['vacation_days'].replace('~25','25')\n",
    "\n",
    "# replace '30 in contract (but theoretically unlimited)' with 30\n",
    "ITSalaryEU_df['vacation_days'] = ITSalaryEU_df['vacation_days'].replace('30 in contract (but theoretically unlimited)', '30')\n",
    "\n",
    "# replace 24 labour days with 24\n",
    "ITSalaryEU_df['vacation_days'] = ITSalaryEU_df['vacation_days'].replace('24 labour days', '24')\n"
   ]
  },
  {
   "cell_type": "code",
   "execution_count": 17,
   "id": "fa04975b",
   "metadata": {},
   "outputs": [
    {
     "data": {
      "text/plain": [
       "array(['30', '28', '24', '29', '27', nan, '25', '31', '26', '60', '20',\n",
       "       '22', '38', '35', '32', '40', '365', '36', '23', '33', '21', '14',\n",
       "       '0', '15', '16', '3', '45', '12', '50', '99', '37.5', '1', '5',\n",
       "       '37', '39', '34', '10'], dtype=object)"
      ]
     },
     "execution_count": 17,
     "metadata": {},
     "output_type": "execute_result"
    }
   ],
   "source": [
    "ITSalaryEU_df['vacation_days'].unique()"
   ]
  },
  {
   "cell_type": "code",
   "execution_count": 18,
   "id": "f9e881fa",
   "metadata": {},
   "outputs": [],
   "source": [
    "ITSalaryEU_df['Timestamp']= pd.to_datetime(ITSalaryEU_df['Timestamp'])\n",
    "ITSalaryEU_df['Age']=ITSalaryEU_df['Age'].astype('Int64')"
   ]
  },
  {
   "cell_type": "markdown",
   "id": "18ad42f0",
   "metadata": {},
   "source": [
    "#### Visualization"
   ]
  },
  {
   "cell_type": "markdown",
   "id": "cfbc7847",
   "metadata": {},
   "source": [
    "#### Pie  Chart Showing Gender Distribution"
   ]
  },
  {
   "cell_type": "code",
   "execution_count": 25,
   "id": "122ccf2d",
   "metadata": {},
   "outputs": [
    {
     "data": {
      "image/png": "[encoded data removed]",
      "text/plain": [
       "<Figure size 792x576 with 1 Axes>"
      ]
     },
     "metadata": {},
     "output_type": "display_data"
    }
   ],
   "source": [
    "plt.figure(figsize=(11,8))\n",
    "ITSalaryEU_df['Gender'].value_counts().plot.pie(autopct=\"%1.2f%%\",fontsize=12,startangle=120,explode=[0.05] * 3,pctdistance=1.1,labeldistance=1.3,textprops={'fontsize': 15})\n",
    "plt.legend(loc='upper right');"
   ]
  },
  {
   "cell_type": "markdown",
   "id": "2e5d24fb",
   "metadata": {},
   "source": [
    "This shows that there are more males than Females"
   ]
  },
  {
   "cell_type": "markdown",
   "id": "724dd0cb",
   "metadata": {},
   "source": [
    "#### Bar Chart showing Distribution of Age"
   ]
  },
  {
   "cell_type": "code",
   "execution_count": 20,
   "id": "0968ad2f",
   "metadata": {},
   "outputs": [
    {
     "data": {
      "image/png": "[encoded data removed]",
      "text/plain": [
       "<Figure size 936x576 with 1 Axes>"
      ]
     },
     "metadata": {
      "needs_background": "light"
     },
     "output_type": "display_data"
    }
   ],
   "source": [
    "ITSalaryEU_df['Age'].value_counts().plot(kind ='bar',figsize = (13,8), color='skyblue', edgecolor='black', title='Distribution of Age');\n",
    "plt.xlabel(\"Age\", size=(16));\n",
    "plt.ylabel(\"Frequency\", size=(16));\n",
    "plt.legend();"
   ]
  },
  {
   "cell_type": "markdown",
   "id": "2ef70147",
   "metadata": {},
   "source": [
    "This shows that majorityof those who work in the IT industry are between 25-40 years"
   ]
  },
  {
   "cell_type": "markdown",
   "id": "259cda1a",
   "metadata": {},
   "source": [
    "#### Bar chat showing Distribution in Terms of Cities"
   ]
  },
  {
   "cell_type": "code",
   "execution_count": 22,
   "id": "e8075170",
   "metadata": {},
   "outputs": [
    {
     "data": {
      "image/png": "[encoded data removed]",
      "text/plain": [
       "<Figure size 936x576 with 1 Axes>"
      ]
     },
     "metadata": {
      "needs_background": "light"
     },
     "output_type": "display_data"
    }
   ],
   "source": [
    "ITSalaryEU_df['City'].value_counts()[0:10].plot(kind ='bar',figsize = (13,8), color='skyblue', edgecolor='black', title='Distribution in Terms of Cities');\n",
    "plt.xlabel(\"City\", size=(16));\n",
    "plt.ylabel(\"Frequency\", size=(16));\n",
    "plt.legend();\n"
   ]
  },
  {
   "cell_type": "markdown",
   "id": "b88fd55d",
   "metadata": {},
   "source": [
    "Most of the IT practitioners came from the Berlin,Munich, Frankfurt and Hamburg"
   ]
  }
 ],
 "metadata": {
  "hide_input": false,
  "kernelspec": {
   "display_name": "Python 3 (ipykernel)",
   "language": "python",
   "name": "python3"
  },
  "language_info": {
   "codemirror_mode": {
    "name": "ipython",
    "version": 3
   },
   "file_extension": ".py",
   "mimetype": "text/x-python",
   "name": "python",
   "nbconvert_exporter": "python",
   "pygments_lexer": "ipython3",
   "version": "3.9.12"
  }
 },
 "nbformat": 4,
 "nbformat_minor": 5
}
